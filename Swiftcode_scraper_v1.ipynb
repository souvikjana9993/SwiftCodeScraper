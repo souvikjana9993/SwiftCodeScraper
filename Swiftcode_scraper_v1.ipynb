{
 "cells": [
  {
   "cell_type": "markdown",
   "metadata": {},
   "source": [
    "Below is a sample working code from America Swift codes scraping from https://www.bankswiftcode.org/\n",
    "Same can be done from other Countries. Output data in form of a csv.\n",
    "\n",
    "Packages used bs4,pandas and numpy"
   ]
  },
  {
   "cell_type": "code",
   "execution_count": 1,
   "metadata": {},
   "outputs": [],
   "source": [
    "#importing packages\n",
    "import requests\n",
    "from bs4 import BeautifulSoup\n",
    "import pandas as pd\n",
    "import numpy as np\n",
    "from time import sleep\n",
    "from random import randint"
   ]
  },
  {
   "cell_type": "code",
   "execution_count": 17,
   "metadata": {},
   "outputs": [],
   "source": [
    "\"\"\"\n",
    "Change the number accordingly with the number of pages to scrape. \n",
    "Please refer to the website to get number of pages for a country\n",
    "\"\"\"\n",
    "pages = [str(i+1) for i in range(22)]## 22 as 22 pages to scrape\n",
    "pages = ['-' + i for i in pages]\n",
    "pages.insert(0,\" \")\n",
    "pages.remove('-1')"
   ]
  },
  {
   "cell_type": "code",
   "execution_count": 18,
   "metadata": {},
   "outputs": [
    {
     "data": {
      "text/plain": [
       "[' ',\n",
       " '-2',\n",
       " '-3',\n",
       " '-4',\n",
       " '-5',\n",
       " '-6',\n",
       " '-7',\n",
       " '-8',\n",
       " '-9',\n",
       " '-10',\n",
       " '-11',\n",
       " '-12',\n",
       " '-13',\n",
       " '-14',\n",
       " '-15',\n",
       " '-16',\n",
       " '-17',\n",
       " '-18',\n",
       " '-19',\n",
       " '-20',\n",
       " '-21',\n",
       " '-22']"
      ]
     },
     "execution_count": 18,
     "metadata": {},
     "output_type": "execute_result"
    }
   ],
   "source": [
    "pages"
   ]
  },
  {
   "cell_type": "code",
   "execution_count": 19,
   "metadata": {},
   "outputs": [
    {
     "name": "stdout",
     "output_type": "stream",
     "text": [
      "CPU times: user 3.73 s, sys: 89.6 ms, total: 3.82 s\n",
      "Wall time: 4min 2s\n"
     ]
    }
   ],
   "source": [
    "%%time\n",
    "\n",
    "data =[]\n",
    "\n",
    "for page in pages: \n",
    "    page = requests.get(\"https://www.bankswiftcode.org/united-states\" + str(page))\n",
    "    soup = BeautifulSoup(page.text, 'html.parser')\n",
    "    table = soup.find('table', attrs={'id':'t2'})\n",
    "    table_body = table.find('tbody')\n",
    "    rows = table_body.find_all('tr')\n",
    "    for row in rows:\n",
    "        cols = row.find_all('td')\n",
    "        cols = [ele.text.strip() for ele in cols]\n",
    "        data.append(cols)\n",
    "    \n",
    "    sleep(randint(2,10))"
   ]
  },
  {
   "cell_type": "code",
   "execution_count": 20,
   "metadata": {},
   "outputs": [],
   "source": [
    "df_amer1=pd.DataFrame([x for x in data if x],columns=['No','Institution','City Heading','Branch Name','Swift Code'])\n",
    "df_amer1.set_index('No',inplace=True)"
   ]
  },
  {
   "cell_type": "code",
   "execution_count": 22,
   "metadata": {},
   "outputs": [
    {
     "data": {
      "text/plain": [
       "(2146, 4)"
      ]
     },
     "execution_count": 22,
     "metadata": {},
     "output_type": "execute_result"
    }
   ],
   "source": [
    "df_amer1.shape"
   ]
  },
  {
   "cell_type": "code",
   "execution_count": 11,
   "metadata": {},
   "outputs": [
    {
     "data": {
      "text/html": [
       "<div>\n",
       "<style scoped>\n",
       "    .dataframe tbody tr th:only-of-type {\n",
       "        vertical-align: middle;\n",
       "    }\n",
       "\n",
       "    .dataframe tbody tr th {\n",
       "        vertical-align: top;\n",
       "    }\n",
       "\n",
       "    .dataframe thead th {\n",
       "        text-align: right;\n",
       "    }\n",
       "</style>\n",
       "<table border=\"1\" class=\"dataframe\">\n",
       "  <thead>\n",
       "    <tr style=\"text-align: right;\">\n",
       "      <th></th>\n",
       "      <th>Institution</th>\n",
       "      <th>City Heading</th>\n",
       "      <th>Branch Name</th>\n",
       "      <th>Swift Code</th>\n",
       "    </tr>\n",
       "    <tr>\n",
       "      <th>No</th>\n",
       "      <th></th>\n",
       "      <th></th>\n",
       "      <th></th>\n",
       "      <th></th>\n",
       "    </tr>\n",
       "  </thead>\n",
       "  <tbody>\n",
       "    <tr>\n",
       "      <th>2142</th>\n",
       "      <td>WORLD VISION INTERNATIONAL</td>\n",
       "      <td>MONROVIA,CA</td>\n",
       "      <td></td>\n",
       "      <td>WVIOUS6LXXX</td>\n",
       "    </tr>\n",
       "    <tr>\n",
       "      <th>2143</th>\n",
       "      <td>ZIONS FIRST NATIONAL BANK</td>\n",
       "      <td>SALT LAKE CITY,UT</td>\n",
       "      <td></td>\n",
       "      <td>ZFNBUS55XXX</td>\n",
       "    </tr>\n",
       "    <tr>\n",
       "      <th>2144</th>\n",
       "      <td>ZURICH AMERICAN INSURANCE COMPANY</td>\n",
       "      <td>SCHAUMBURG,IL</td>\n",
       "      <td>(FARMERS)</td>\n",
       "      <td>ZURIUS44FAR</td>\n",
       "    </tr>\n",
       "    <tr>\n",
       "      <th>2145</th>\n",
       "      <td>ZURICH AMERICAN INSURANCE COMPANY</td>\n",
       "      <td>SCHAUMBURG,IL</td>\n",
       "      <td>(ZNA)</td>\n",
       "      <td>ZURIUS44ZNA</td>\n",
       "    </tr>\n",
       "    <tr>\n",
       "      <th>2146</th>\n",
       "      <td>ZURICH AMERICAN INSURANCE COMPANY</td>\n",
       "      <td>SCHAUMBURG,IL</td>\n",
       "      <td></td>\n",
       "      <td>ZURIUS44XXX</td>\n",
       "    </tr>\n",
       "  </tbody>\n",
       "</table>\n",
       "</div>"
      ],
      "text/plain": [
       "                            Institution       City Heading Branch Name  \\\n",
       "No                                                                       \n",
       "2142         WORLD VISION INTERNATIONAL        MONROVIA,CA               \n",
       "2143          ZIONS FIRST NATIONAL BANK  SALT LAKE CITY,UT               \n",
       "2144  ZURICH AMERICAN INSURANCE COMPANY      SCHAUMBURG,IL   (FARMERS)   \n",
       "2145  ZURICH AMERICAN INSURANCE COMPANY      SCHAUMBURG,IL       (ZNA)   \n",
       "2146  ZURICH AMERICAN INSURANCE COMPANY      SCHAUMBURG,IL               \n",
       "\n",
       "       Swift Code  \n",
       "No                 \n",
       "2142  WVIOUS6LXXX  \n",
       "2143  ZFNBUS55XXX  \n",
       "2144  ZURIUS44FAR  \n",
       "2145  ZURIUS44ZNA  \n",
       "2146  ZURIUS44XXX  "
      ]
     },
     "execution_count": 11,
     "metadata": {},
     "output_type": "execute_result"
    }
   ],
   "source": [
    "df_amer1.tail()"
   ]
  },
  {
   "cell_type": "code",
   "execution_count": null,
   "metadata": {},
   "outputs": [],
   "source": [
    "#df_amer1.to_csv('america_swift.csv',index=False)"
   ]
  },
  {
   "cell_type": "code",
   "execution_count": null,
   "metadata": {},
   "outputs": [],
   "source": []
  }
 ],
 "metadata": {
  "kernelspec": {
   "display_name": "Python 3",
   "language": "python",
   "name": "python3"
  },
  "language_info": {
   "codemirror_mode": {
    "name": "ipython",
    "version": 3
   },
   "file_extension": ".py",
   "mimetype": "text/x-python",
   "name": "python",
   "nbconvert_exporter": "python",
   "pygments_lexer": "ipython3",
   "version": "3.7.6"
  }
 },
 "nbformat": 4,
 "nbformat_minor": 4
}
